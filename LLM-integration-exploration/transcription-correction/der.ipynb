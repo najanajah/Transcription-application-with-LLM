{
 "cells": [
  {
   "cell_type": "code",
   "execution_count": 1,
   "metadata": {},
   "outputs": [],
   "source": [
    "from pyannote.core import Segment, Annotation\n",
    "from typing import TextIO, Optional\n",
    "\n",
    "class Annotation(Annotation):\n",
    "    @classmethod\n",
    "    def from_rttm(\n",
    "        cls, rttm_file: TextIO, uri: Optional[str] = None, modality: Optional[str] = None,\n",
    "    ) -> \"Annotation\":\n",
    "        \"\"\"\n",
    "        Create annotation from RTTM file.\n",
    "        \n",
    "        Parameters\n",
    "        ----------\n",
    "        rttm_file : TextIO\n",
    "            File object for the RTTM file.\n",
    "        uri : str, optional\n",
    "            Name of the annotated resource (e.g., audio or video file).\n",
    "        modality : str, optional\n",
    "            Name of the annotated modality.\n",
    "            \n",
    "        Returns\n",
    "        -------\n",
    "        annotation : Annotation\n",
    "            New annotation object with parsed segments.\n",
    "        \"\"\"\n",
    "        # Create an empty annotation\n",
    "        annotation = cls(uri=uri, modality=modality)\n",
    "        \n",
    "        for line in rttm_file:\n",
    "            line = line.strip().split()\n",
    "            if len(line) < 9:\n",
    "                continue  # Skip lines that do not have enough fields\n",
    "            \n",
    "            # Parse RTTM fields\n",
    "            start_time = float(line[3])\n",
    "            duration = float(line[4])\n",
    "            speaker_label = line[7]\n",
    "            \n",
    "\n",
    "            segment = Segment(start=start_time, end=start_time + duration)\n",
    "            annotation[segment] = speaker_label  # Manually add segment with label\n",
    "        \n",
    "        return annotation\n"
   ]
  },
  {
   "cell_type": "code",
   "execution_count": 5,
   "metadata": {},
   "outputs": [
    {
     "name": "stderr",
     "output_type": "stream",
     "text": [
      "c:\\Users\\najah\\dev\\transcription-software-llm\\venv\\Lib\\site-packages\\pyannote\\metrics\\utils.py:200: UserWarning: 'uem' was approximated by the union of 'reference' and 'hypothesis' extents.\n",
      "  warnings.warn(\n"
     ]
    },
    {
     "data": {
      "text/plain": [
       "0.8005054862513825"
      ]
     },
     "execution_count": 5,
     "metadata": {},
     "output_type": "execute_result"
    }
   ],
   "source": [
    "from pyannote.metrics.diarization import DiarizationErrorRate\n",
    "\n",
    "with open(\"whisper-pyannote-audio.rttm\") as f:\n",
    "    hyp = Annotation.from_rttm(f)\n",
    "\n",
    "with open('diarization\\\\audio_new-gt.rttm') as f :\n",
    "    ref = Annotation.from_rttm(f)\n",
    "der = DiarizationErrorRate()\n",
    "der_result = der(ref,hyp)\n",
    "der_result"
   ]
  },
  {
   "cell_type": "code",
   "execution_count": 9,
   "metadata": {},
   "outputs": [
    {
     "name": "stderr",
     "output_type": "stream",
     "text": [
      "c:\\Users\\najah\\dev\\transcription-software-llm\\venv\\Lib\\site-packages\\pyannote\\metrics\\utils.py:200: UserWarning: 'uem' was approximated by the union of 'reference' and 'hypothesis' extents.\n",
      "  warnings.warn(\n"
     ]
    },
    {
     "data": {
      "text/plain": [
       "{'missed detection': 162.13,\n",
       " 'correct': 960.2959999999996,\n",
       " 'total': 1674.822999999998,\n",
       " 'confusion': 552.3969999999983,\n",
       " 'false alarm': 204.26700000000062,\n",
       " 'diarization error rate': 0.5485917019290993}"
      ]
     },
     "execution_count": 9,
     "metadata": {},
     "output_type": "execute_result"
    }
   ],
   "source": [
    "from pyannote.metrics.diarization import DiarizationErrorRate\n",
    "\n",
    "with open('transcription-error-correction\\\\rttm\\\\audio_new\\\\audio_new.rttm') as f :\n",
    "    hyp = Annotation.from_rttm(f)\n",
    "with open('diarization\\\\audio_new-gt.rttm') as f :\n",
    "    ref = Annotation.from_rttm(f)\n",
    "\n",
    "der = DiarizationErrorRate()\n",
    "der_result = der(ref,hyp, detailed=True)\n",
    "der_result"
   ]
  },
  {
   "cell_type": "code",
   "execution_count": 8,
   "metadata": {},
   "outputs": [
    {
     "name": "stderr",
     "output_type": "stream",
     "text": [
      "c:\\Users\\najah\\dev\\transcription-software-llm\\venv\\Lib\\site-packages\\pyannote\\metrics\\utils.py:200: UserWarning: 'uem' was approximated by the union of 'reference' and 'hypothesis' extents.\n",
      "  warnings.warn(\n"
     ]
    },
    {
     "data": {
      "text/plain": [
       "{'missed detection': 31.058999999999827,\n",
       " 'correct': 461.6959999999999,\n",
       " 'total': 790.5019999999996,\n",
       " 'confusion': 297.7469999999999,\n",
       " 'false alarm': 134.3969999999998,\n",
       " 'diarization error rate': 0.5859605668296851}"
      ]
     },
     "execution_count": 8,
     "metadata": {},
     "output_type": "execute_result"
    }
   ],
   "source": [
    "from pyannote.metrics.diarization import DiarizationErrorRate\n",
    "\n",
    "with open('transcription-error-correction\\\\rttm\\\\audio\\\\audio.rttm') as f :\n",
    "    hyp = Annotation.from_rttm(f)\n",
    "with open('diarization\\\\audio-pyannote-replaced.rttm') as f :\n",
    "    ref = Annotation.from_rttm(f)\n",
    "\n",
    "der = DiarizationErrorRate(detailed = True)\n",
    "der_result = der(ref,hyp, detailed =True)\n",
    "der_result"
   ]
  },
  {
   "cell_type": "code",
   "execution_count": 17,
   "metadata": {},
   "outputs": [
    {
     "data": {
      "text/plain": [
       "{'_uri': None,\n",
       " 'modality': None,\n",
       " '_tracks': SortedDict({}),\n",
       " '_labels': {},\n",
       " '_labelNeedsUpdate': {},\n",
       " '_timeline': <Timeline(uri=None, segments=[])>,\n",
       " '_timelineNeedsUpdate': False}"
      ]
     },
     "execution_count": 17,
     "metadata": {},
     "output_type": "execute_result"
    }
   ],
   "source": [
    "hyp.__dict__"
   ]
  },
  {
   "cell_type": "code",
   "execution_count": 19,
   "metadata": {},
   "outputs": [
    {
     "name": "stdout",
     "output_type": "stream",
     "text": [
      "[ 00:00:00.000 -->  00:00:01.000] _ TEST_SPEAKER\n"
     ]
    }
   ],
   "source": [
    "test_annotation = Annotation()\n",
    "test_annotation[Segment(0, 1)] = \"TEST_SPEAKER\"\n",
    "print(test_annotation)"
   ]
  },
  {
   "cell_type": "code",
   "execution_count": 76,
   "metadata": {},
   "outputs": [
    {
     "name": "stdout",
     "output_type": "stream",
     "text": [
      "audio_test  for downloading \n"
     ]
    },
    {
     "data": {
      "text/plain": [
       "'audio_test'"
      ]
     },
     "execution_count": 76,
     "metadata": {},
     "output_type": "execute_result"
    }
   ],
   "source": []
  },
  {
   "cell_type": "code",
   "execution_count": null,
   "metadata": {},
   "outputs": [],
   "source": []
  }
 ],
 "metadata": {
  "kernelspec": {
   "display_name": "venv",
   "language": "python",
   "name": "python3"
  },
  "language_info": {
   "codemirror_mode": {
    "name": "ipython",
    "version": 3
   },
   "file_extension": ".py",
   "mimetype": "text/x-python",
   "name": "python",
   "nbconvert_exporter": "python",
   "pygments_lexer": "ipython3",
   "version": "3.11.4"
  }
 },
 "nbformat": 4,
 "nbformat_minor": 2
}
